{
  "nbformat": 4,
  "nbformat_minor": 0,
  "metadata": {
    "colab": {
      "name": "PNtheorem.ipynb",
      "provenance": [],
      "collapsed_sections": [],
      "toc_visible": true,
      "authorship_tag": "ABX9TyMSE2rTO09oqn8Bjnl0eard",
      "include_colab_link": true
    },
    "kernelspec": {
      "name": "python3",
      "display_name": "Python 3"
    },
    "language_info": {
      "name": "python"
    }
  },
  "cells": [
    {
      "cell_type": "markdown",
      "metadata": {
        "id": "view-in-github",
        "colab_type": "text"
      },
      "source": [
        "<a href=\"https://colab.research.google.com/github/onishiryo/cprogtest/blob/main/PNtheorem.ipynb\" target=\"_parent\"><img src=\"https://colab.research.google.com/assets/colab-badge.svg\" alt=\"Open In Colab\"/></a>"
      ]
    },
    {
      "cell_type": "markdown",
      "source": [
        "# C programming test"
      ],
      "metadata": {
        "id": "qPnnsp2KH27p"
      }
    },
    {
      "cell_type": "code",
      "execution_count": 58,
      "metadata": {
        "colab": {
          "base_uri": "https://localhost:8080/"
        },
        "id": "P9OK8ovaHiOY",
        "outputId": "590782c2-1dca-4cf8-ac6c-2a781d193730"
      },
      "outputs": [
        {
          "output_type": "stream",
          "name": "stdout",
          "text": [
            "Overwriting PNtheorem.c\n"
          ]
        }
      ],
      "source": [
        "%%file PNtheorem.c \n",
        "#pragma warning(disable: 4996)\n",
        "#include <stdio.h>\n",
        "#include <math.h> //to use math functions, e.g., log, sqrt, pow\n",
        "int main(void) {\n",
        "    FILE *outfp; //result.txt\n",
        "    double x[10]={10.,1e2,1e3,1e4,1e5,1e6,1e7,1e8,1e9,1e10};\n",
        "\n",
        "    outfp = fopen(\"result.txt\", \"w\");\n",
        "\n",
        "    printf(\"       x,   Pi(x) \\n\");\n",
        "    fprintf(outfp, \"      x,    Pi(x) \\n\");\n",
        "\n",
        "    for (int i=0; i<10; i++){\n",
        "        double pix=x[i]/log(x[i]);\n",
        "        printf(\"x=%7.2e, pix=%8.2e\\n\",x[i],pix);\n",
        "        fprintf(outfp, \"%7.2e, %7.2e\\n\",x[i],pix);\n",
        "    }\n",
        "\n",
        "    fclose(outfp);\n",
        "\n",
        "    return 0;\n",
        "}"
      ]
    },
    {
      "cell_type": "code",
      "source": [
        "# to include math library, put \"-lm\" option\n",
        "!gcc PNtheorem.c -o a.out -lm"
      ],
      "metadata": {
        "id": "_gBUABPAHw5i"
      },
      "execution_count": 59,
      "outputs": []
    },
    {
      "cell_type": "code",
      "source": [
        "!./a.out"
      ],
      "metadata": {
        "colab": {
          "base_uri": "https://localhost:8080/"
        },
        "id": "bAE-vcmjsCO4",
        "outputId": "4c379fee-f001-4cce-d3cc-6ffad2a94a53"
      },
      "execution_count": 60,
      "outputs": [
        {
          "output_type": "stream",
          "name": "stdout",
          "text": [
            "       x,   Pi(x) \n",
            "x=1.00e+01, pix=4.34e+00\n",
            "x=1.00e+02, pix=2.17e+01\n",
            "x=1.00e+03, pix=1.45e+02\n",
            "x=1.00e+04, pix=1.09e+03\n",
            "x=1.00e+05, pix=8.69e+03\n",
            "x=1.00e+06, pix=7.24e+04\n",
            "x=1.00e+07, pix=6.20e+05\n",
            "x=1.00e+08, pix=5.43e+06\n",
            "x=1.00e+09, pix=4.83e+07\n",
            "x=1.00e+10, pix=4.34e+08\n"
          ]
        }
      ]
    },
    {
      "cell_type": "code",
      "source": [
        "!ls"
      ],
      "metadata": {
        "colab": {
          "base_uri": "https://localhost:8080/"
        },
        "id": "hHGzNFeassGR",
        "outputId": "1bb6afaa-4dd2-4b1b-86b4-46c470766526"
      },
      "execution_count": 61,
      "outputs": [
        {
          "output_type": "stream",
          "name": "stdout",
          "text": [
            "a.out  PNtheorem.c  result.txt\tsample_data\n"
          ]
        }
      ]
    },
    {
      "cell_type": "code",
      "source": [
        "!cat result.txt"
      ],
      "metadata": {
        "colab": {
          "base_uri": "https://localhost:8080/"
        },
        "id": "fDMdf0xOECUU",
        "outputId": "9467579c-27d0-48f8-f6d5-6e50168df39c"
      },
      "execution_count": 62,
      "outputs": [
        {
          "output_type": "stream",
          "name": "stdout",
          "text": [
            "      x,    Pi(x) \n",
            "1.00e+01, 4.34e+00\n",
            "1.00e+02, 2.17e+01\n",
            "1.00e+03, 1.45e+02\n",
            "1.00e+04, 1.09e+03\n",
            "1.00e+05, 8.69e+03\n",
            "1.00e+06, 7.24e+04\n",
            "1.00e+07, 6.20e+05\n",
            "1.00e+08, 5.43e+06\n",
            "1.00e+09, 4.83e+07\n",
            "1.00e+10, 4.34e+08\n"
          ]
        }
      ]
    }
  ]
}