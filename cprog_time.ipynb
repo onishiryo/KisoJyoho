{
  "cells": [
    {
      "cell_type": "markdown",
      "metadata": {
        "id": "view-in-github",
        "colab_type": "text"
      },
      "source": [
        "<a href=\"https://colab.research.google.com/github/onishiryo/KisoJyoho/blob/main/cprog_time.ipynb\" target=\"_parent\"><img src=\"https://colab.research.google.com/assets/colab-badge.svg\" alt=\"Open In Colab\"/></a>"
      ]
    },
    {
      "cell_type": "markdown",
      "metadata": {
        "id": "qPnnsp2KH27p"
      },
      "source": [
        "# C programming test, time function"
      ]
    },
    {
      "cell_type": "code",
      "execution_count": 11,
      "metadata": {
        "colab": {
          "base_uri": "https://localhost:8080/"
        },
        "id": "P9OK8ovaHiOY",
        "outputId": "d52710ca-b6de-4703-ef38-3bbbc4b0a8fe"
      },
      "outputs": [
        {
          "output_type": "stream",
          "name": "stdout",
          "text": [
            "Overwriting time_func.c\n"
          ]
        }
      ],
      "source": [
        "%%file time_func.c \n",
        "#include <stdio.h>\n",
        "#include <time.h> //for time\n",
        "\n",
        "int main(void) {\n",
        "    \n",
        "    time_t tstart, tend; //sec (s)\n",
        "\n",
        "    int i,j,k;\n",
        "    double a, b;\n",
        "    int n=2000;\n",
        "\n",
        "//加算\n",
        "    tstart = time(NULL);\n",
        "    a=1.0, b=3.0;\n",
        "    for(i=0; i<n; i++){\n",
        "        for(j=0; j<n; j++){\n",
        "            for(k=0; k<n; k++){\n",
        "                a=a+b;\n",
        "            }\n",
        "        }\n",
        "    }\n",
        "    tend = time(NULL);\n",
        "    printf(\"加算 にかかった時間=%ld [sec]\\n\", tend-tstart);\n",
        "\n",
        "//減算\n",
        "    tstart = time(NULL);\n",
        "    for(i=0; i<n; i++){\n",
        "        for(j=0; j<n; j++){\n",
        "            for(k=0; k<n; k++){\n",
        "                a=a-b;\n",
        "            }\n",
        "        }\n",
        "    }\n",
        "    tend = time(NULL);\n",
        "    printf(\"減算 にかかった時間=%ld [sec]\\n\", tend-tstart);\n",
        "\n",
        "//乗算\n",
        "    tstart = time(NULL);\n",
        "    a=1.0;\n",
        "    for(i=0; i<n; i++){\n",
        "        for(j=0; j<n; j++){\n",
        "            for(k=0; k<n; k++){\n",
        "                a=a*b;\n",
        "            }\n",
        "        }\n",
        "    }\n",
        "    tend = time(NULL);\n",
        "    printf(\"乗算 にかかった時間=%ld [sec]\\n\", tend-tstart);\n",
        "\n",
        "//除算\n",
        "    tstart = time(NULL);\n",
        "    a=1.0;\n",
        "    for(i=0; i<n; i++){\n",
        "        for(j=0; j<n; j++){\n",
        "            for(k=0; k<n; k++){\n",
        "                a=a/b;\n",
        "            }\n",
        "        }\n",
        "    }\n",
        "    tend = time(NULL);\n",
        "    printf(\"除算 にかかった時間=%ld [sec]\\n\", tend-tstart);\n",
        "\n",
        "    return 0; \n",
        "}\n"
      ]
    },
    {
      "cell_type": "code",
      "execution_count": 12,
      "metadata": {
        "colab": {
          "base_uri": "https://localhost:8080/"
        },
        "id": "_gBUABPAHw5i",
        "outputId": "909d9566-d401-46bf-f483-6a46cd1996bd"
      },
      "outputs": [
        {
          "output_type": "stream",
          "name": "stdout",
          "text": [
            "加算 にかかった時間=29 [sec]\n",
            "加算 にかかった時間=29 [usec]\n",
            "減算 にかかった時間=29 [sec]\n",
            "乗算 にかかった時間=29 [sec]\n",
            "除算 にかかった時間=56 [sec]\n"
          ]
        }
      ],
      "source": [
        "!gcc time_func.c\n",
        "!./a.out"
      ]
    }
  ],
  "metadata": {
    "colab": {
      "collapsed_sections": [],
      "name": "cprog-time.ipynb",
      "provenance": [],
      "authorship_tag": "ABX9TyPsb3+PXeeM3898gmlu1yIK",
      "include_colab_link": true
    },
    "kernelspec": {
      "display_name": "Python 3",
      "name": "python3"
    },
    "language_info": {
      "name": "python"
    }
  },
  "nbformat": 4,
  "nbformat_minor": 0
}