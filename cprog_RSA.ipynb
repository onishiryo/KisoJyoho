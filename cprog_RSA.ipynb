{
  "nbformat": 4,
  "nbformat_minor": 0,
  "metadata": {
    "colab": {
      "name": "cprog-RSA.ipynb",
      "provenance": [],
      "collapsed_sections": [],
      "authorship_tag": "ABX9TyOs5v1c0f7GN/VMlsqUr7vZ",
      "include_colab_link": true
    },
    "kernelspec": {
      "name": "python3",
      "display_name": "Python 3"
    },
    "language_info": {
      "name": "python"
    }
  },
  "cells": [
    {
      "cell_type": "markdown",
      "metadata": {
        "id": "view-in-github",
        "colab_type": "text"
      },
      "source": [
        "<a href=\"https://colab.research.google.com/github/onishiryo/KisoJyoho/blob/main/cprog_RSA.ipynb\" target=\"_parent\"><img src=\"https://colab.research.google.com/assets/colab-badge.svg\" alt=\"Open In Colab\"/></a>"
      ]
    },
    {
      "cell_type": "markdown",
      "source": [
        "# C programming test, RSA encrypt"
      ],
      "metadata": {
        "id": "qPnnsp2KH27p"
      }
    },
    {
      "cell_type": "code",
      "source": [
        "from google.colab import drive\n",
        "drive.mount('/content/drive')"
      ],
      "metadata": {
        "id": "id8pGFy8Nt8H"
      },
      "execution_count": null,
      "outputs": []
    },
    {
      "cell_type": "code",
      "source": [
        "%%file RSA_num.c \n",
        "#pragma warning(disable: 4996)\n",
        "#include <stdio.h>\n",
        "#include <stdlib.h>\n",
        "#include <time.h>\n",
        "#include <math.h>\n",
        "#include <string.h>\n",
        "\n",
        "long int gcd(long int a, long int b);\n",
        "long int lcm(long int a, long int b);\n",
        "long int ExEuqlid(long int a, long int b);\n",
        "long int PowerMod(long int a, long int k, long int n);\n",
        "\n",
        "int main() {\n",
        "\n",
        "    //異なる素数 p,q (p>q) //p*qが10桁程度までに設定\n",
        "//    long int p=1065683; //13097771; //61;\n",
        "//    long int q=1020157; //13097761; //43;\n",
        "//    long int p=6257; //61;\n",
        "//    long int q=1499; //43;\n",
        "    long int p=10321; //ok\n",
        "    long int q=10313;\n",
        "//    long int p=495323; //ng\n",
        "//    long int q=486539;\n",
        "//    long int p=101089; //ng\n",
        "//    long int q=101081;\n",
        "//    long int p=1087483; //ng\n",
        "//    long int q=1087459;\n",
        "//    long int p=73;\n",
        "//    long int q=71;\n",
        "\n",
        "    if(p < q) { //to ensure p>q\n",
        "        long int tmp = p;\n",
        "        p = q;\n",
        "        q = tmp;\n",
        "    }\n",
        "\n",
        "    printf(\"P : %ld   Q : %ld\\n\",p,q);\n",
        "\n",
        "    //公開鍵 n\n",
        "    long int n = p * q;\n",
        "\n",
        "    //最小公倍数 l\n",
        "    long int l = lcm(p-1, q-1);\n",
        "    printf(\"lcm=%ld\\n\",l);\n",
        "\n",
        "    //公開鍵 e\n",
        "    long int e = 2;\n",
        "    while(gcd(l, e) != 1) {\n",
        "        e++;\n",
        "    }\n",
        "\n",
        "    printf(\"E=%ld\\n\", e);\n",
        "\n",
        "    //秘密鍵 d\n",
        "    long int d = ExEuqlid(e, l);\n",
        "\n",
        "    printf(\"N= %ld,  E= %ld,  D= %ld\\n\",n,e,d);\n",
        "\n",
        "//start encrypting & decoding\n",
        "    long int inum_plain=20220530; //754; //123456; //inum_plain <n\n",
        "    long int inum_encrypted;\n",
        "\n",
        "    printf(\"original plain number=%ld\\n\", inum_plain);\n",
        "\n",
        "//start encrypting\n",
        "    inum_encrypted = PowerMod(inum_plain, e, n);\n",
        "    printf(\"encrypted number=%ld\\n\",inum_encrypted);\n",
        "\n",
        "//start decoding\n",
        "    inum_plain = PowerMod(inum_encrypted, d, n);\n",
        "    printf(\"(decoded) plain number=%ld\\n\", inum_plain);\n",
        "\n",
        "    return 0;\n",
        "}\n",
        "\n",
        "long int gcd(long int a, long int b) {\n",
        "//最大公約数 Greatest Common Divisor\n",
        "/*\n",
        "    if(b == 0){\n",
        "        return a;\n",
        "    } else {\n",
        "        return gcd(b, a % b);\n",
        "    }\n",
        "*/\n",
        "     long int t;\n",
        " \n",
        "     while (b != 0) {\n",
        "         t = a % b;  a = b;  b = t;\n",
        "     }\n",
        "     return a;\n",
        "}\n",
        "\n",
        "long int lcm(long int a, long int b) {\n",
        "//最小公倍数 Least Common Multiple\n",
        "    return a * b / gcd(a, b);\n",
        "}\n",
        "\n",
        "long int ExEuqlid(long int a,long int b){\n",
        "    long int x, y, q;\n",
        "    long int x1 = 1, x2 = 0, x3;\n",
        "    long int y1 = 0, y2 = 1, y3;\n",
        "    long int result1 = b;\n",
        "    long int result2 = a;\n",
        "    long int result3;\n",
        "    while(1){\n",
        "        q = result1 / result2;\n",
        "        x3 = x1 - (q*x2);\n",
        "        y3 = y1 - (q*y2);\n",
        "        result3 = result1 - q*result2;\n",
        "        if(result3==1){\n",
        "            if(y3<0){return y3+b;}\n",
        "            return y3;}\n",
        "        x1 = x2;\n",
        "        y1 = y2;\n",
        "        result1 = result2;\n",
        "        x2 = x3;\n",
        "        y2 = y3;\n",
        "        result2 = result3;\n",
        "    }\n",
        "    return 0;\n",
        "}\n",
        "\n",
        "long int PowerMod(long int a, long int k, long int n) {\n",
        "/*\n",
        "単純にa^k (mod n)を計算したいところだけど、\n",
        "a^kが非常に大きい数字になり得るので、少し工夫する（繰り返し自乗法）。\n",
        "*/\n",
        "    long int i;\n",
        "    long int value = 1;\n",
        "    a = a%n;\n",
        "    for(i = 0; i < k; i++) {\n",
        "        value = value*a;\n",
        "        if(value >= n) {\n",
        "            value = value%n;}}\n",
        "    return value;\n",
        "}"
      ],
      "metadata": {
        "colab": {
          "base_uri": "https://localhost:8080/"
        },
        "id": "JwokUAYnKkMX",
        "outputId": "0a7e2aef-ee76-4fd3-fe4a-ca5a7b96e040"
      },
      "execution_count": 16,
      "outputs": [
        {
          "output_type": "stream",
          "name": "stdout",
          "text": [
            "Overwriting RSA_num.c\n"
          ]
        }
      ]
    },
    {
      "cell_type": "code",
      "source": [
        "!gcc RSA_num.c -o a.out -lm\n",
        "!./a.out"
      ],
      "metadata": {
        "colab": {
          "base_uri": "https://localhost:8080/"
        },
        "id": "34LDoD6cL17b",
        "outputId": "80b95c20-07d5-4577-c4d4-1829eadae2d7"
      },
      "execution_count": 17,
      "outputs": [
        {
          "output_type": "stream",
          "name": "stdout",
          "text": [
            "P : 10321   Q : 10313\n",
            "lcm=13302480\n",
            "E=7\n",
            "N= 106440473,  E= 7,  D= 5701063\n",
            "original plain number=20220530\n",
            "encrypted number=98633350\n",
            "(decoded) plain number=20220530\n"
          ]
        }
      ]
    },
    {
      "cell_type": "markdown",
      "source": [
        "D: 157678800101"
      ],
      "metadata": {
        "id": "LPHH-cTV0Xn1"
      }
    },
    {
      "cell_type": "markdown",
      "source": [
        "P : 73   Q : 71\n",
        "\n",
        "N : 5183   L : 2520   E : 11   D : 2291\n",
        "\n",
        "plain_num : 754\n",
        "\n",
        "encrypted_num: 2406\n",
        "\n",
        "decrypted_num: 754"
      ],
      "metadata": {
        "id": "OCRaWp3NjHU0"
      }
    },
    {
      "cell_type": "markdown",
      "source": [
        "P : 73   Q : 67\n",
        "N : 4891   L : 792   E : 5   D : 317\n",
        "plain_num : 5082\n",
        "encrypted_num: 1572\n",
        "decrypted_num: 191"
      ],
      "metadata": {
        "id": "QCQNFSNXi9Jl"
      }
    },
    {
      "cell_type": "code",
      "source": [
        "%%file RSA-keygen.c \n",
        "#pragma warning(disable: 4996)\n",
        "#include <stdio.h>\n",
        "#include <math.h>\n",
        "\n",
        "long int gcd(long int a, long int b);\n",
        "long int lcm(long int a, long int b);\n",
        "long int ExEuqlid(long int a, long int b);\n",
        "\n",
        "int main() {\n",
        "\n",
        "    //異なる素数 p,q (p>q) //p*qが10桁程度までに設定\n",
        "    long int p=10321; //ok\n",
        "    long int q=10313;\n",
        "\n",
        "    if(p < q) { //to ensure p>q\n",
        "        long int tmp = p;\n",
        "        p = q;\n",
        "        q = tmp;\n",
        "    }\n",
        "\n",
        "    printf(\"P : %ld   Q : %ld\\n\",p,q);\n",
        "\n",
        "    //公開鍵 n\n",
        "    long int n = p * q;\n",
        "\n",
        "    //公開鍵 e\n",
        "    long int l = lcm(p-1, q-1); //最小公倍数 l\n",
        "    long int e = 2;\n",
        "    while(gcd(l, e) != 1) {\n",
        "        e++;\n",
        "    }\n",
        "\n",
        "    //秘密鍵 d\n",
        "    long int d = ExEuqlid(e, l);\n",
        "\n",
        "    printf(\"N= %ld,  E= %ld,  D= %ld\\n\",n,e,d);\n",
        "\n",
        "    return 0;\n",
        "}\n",
        "\n",
        "long int gcd(long int a, long int b) {\n",
        "//最大公約数 Greatest Common Divisor\n",
        "     long int t;\n",
        " \n",
        "     while (b != 0) {\n",
        "         t = a % b;  a = b;  b = t;\n",
        "     }\n",
        "     return a;\n",
        "}\n",
        "\n",
        "long int lcm(long int a, long int b) {\n",
        "//最小公倍数 Least Common Multiple\n",
        "    return a * b / gcd(a, b);\n",
        "}\n",
        "\n",
        "long int ExEuqlid(long int a,long int b){\n",
        "    long int x, y, q;\n",
        "    long int x1 = 1, x2 = 0, x3;\n",
        "    long int y1 = 0, y2 = 1, y3;\n",
        "    long int result1 = b;\n",
        "    long int result2 = a;\n",
        "    long int result3;\n",
        "    while(1){\n",
        "        q = result1 / result2;\n",
        "        x3 = x1 - (q*x2);\n",
        "        y3 = y1 - (q*y2);\n",
        "        result3 = result1 - q*result2;\n",
        "        if(result3==1){\n",
        "            if(y3<0){return y3+b;}\n",
        "            return y3;}\n",
        "        x1 = x2;\n",
        "        y1 = y2;\n",
        "        result1 = result2;\n",
        "        x2 = x3;\n",
        "        y2 = y3;\n",
        "        result2 = result3;\n",
        "    }\n",
        "    return 0;\n",
        "}"
      ],
      "metadata": {
        "colab": {
          "base_uri": "https://localhost:8080/"
        },
        "id": "cdrpk6kPW5Tz",
        "outputId": "9be57386-f194-4742-8f83-3bd7cdf25448"
      },
      "execution_count": 1,
      "outputs": [
        {
          "output_type": "stream",
          "name": "stdout",
          "text": [
            "Writing RSA-keygen.c\n"
          ]
        }
      ]
    },
    {
      "cell_type": "code",
      "source": [
        "!gcc RSA-keygen.c -o keygen.out -lm\n",
        "!./keygen.out"
      ],
      "metadata": {
        "colab": {
          "base_uri": "https://localhost:8080/"
        },
        "id": "xqt3GD6aXrEL",
        "outputId": "cdea6f1c-1724-4698-fa19-917919866115"
      },
      "execution_count": 2,
      "outputs": [
        {
          "output_type": "stream",
          "name": "stdout",
          "text": [
            "P : 10321   Q : 10313\n",
            "N= 106440473,  E= 7,  D= 5701063\n"
          ]
        }
      ]
    },
    {
      "cell_type": "code",
      "source": [
        "%%file RSA-encrypt.c \n",
        "#pragma warning(disable: 4996)\n",
        "#include <stdio.h>\n",
        "#include <math.h>\n",
        "\n",
        "long int PowerMod(long int a, long int k, long int n);\n",
        "\n",
        "int main() {\n",
        "    long int n=106440473; //公開鍵 n=p*q\n",
        "    long int e=7; //公開鍵 e\n",
        "    long int d=5701063; //秘密鍵 d\n",
        "    long int inum_input=98633350; //input number\n",
        "\n",
        "    int imode=2; //1=encode, 2=decode\n",
        "    switch(imode){\n",
        "        case 1: //encoding, e&n required\n",
        "          printf(\"Encoding the number: %ld\\n\", inum_input);\n",
        "          long int inum_encrypted = PowerMod(inum_input, e, n);\n",
        "          printf(\"encrypted number=%lu\\n\",inum_encrypted);\n",
        "          break;\n",
        "        case 2: //decoding, d&n required\n",
        "          printf(\"Decoding the number: %ld\\n\", inum_input);\n",
        "          long int inum_decoded = PowerMod(inum_input, d, n);\n",
        "          printf(\"(decoded) plain number=%ld\\n\",inum_decoded);          \n",
        "          break;\n",
        "    }\n",
        "\n",
        "    return 0;\n",
        "}\n",
        "\n",
        "long int PowerMod(long int a, long int k, long int n) {\n",
        "/*\n",
        "単純にa^k (mod n)を計算したいところだけど、\n",
        "a^kが非常に大きい数字になり得るので、少し工夫する（繰り返し自乗法）。\n",
        "*/\n",
        "    long int i;\n",
        "    long int value = 1;\n",
        "    a = a%n;\n",
        "    for(i = 0; i < k; i++) {\n",
        "        value = value*a;\n",
        "        if(value >= n) {\n",
        "            value = value%n;}}\n",
        "    return value;\n",
        "}"
      ],
      "metadata": {
        "colab": {
          "base_uri": "https://localhost:8080/"
        },
        "id": "iQEVBNCBYFnT",
        "outputId": "5afc9b26-8caa-4951-f4a0-854a9c385d9e"
      },
      "execution_count": 8,
      "outputs": [
        {
          "output_type": "stream",
          "name": "stdout",
          "text": [
            "Overwriting RSA-encrypt.c\n"
          ]
        }
      ]
    },
    {
      "cell_type": "code",
      "source": [
        "!gcc RSA-encrypt.c -o encrypt.out -lm\n",
        "!./encrypt.out"
      ],
      "metadata": {
        "colab": {
          "base_uri": "https://localhost:8080/"
        },
        "id": "D8H5kVMR0Uq1",
        "outputId": "a288d772-1c76-4bcc-cea4-532cd3057d8c"
      },
      "execution_count": 9,
      "outputs": [
        {
          "output_type": "stream",
          "name": "stdout",
          "text": [
            "Decoding the number: 98633350\n",
            "(decoded) plain number=20220530\n"
          ]
        }
      ]
    }
  ]
}