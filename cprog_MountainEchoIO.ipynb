{
  "nbformat": 4,
  "nbformat_minor": 0,
  "metadata": {
    "colab": {
      "name": "cprog-MountainEchoIO.ipynb",
      "provenance": [],
      "collapsed_sections": [],
      "toc_visible": true,
      "authorship_tag": "ABX9TyO5ZvTtVip1IgWsk/CI2ZYk",
      "include_colab_link": true
    },
    "kernelspec": {
      "name": "python3",
      "display_name": "Python 3"
    },
    "language_info": {
      "name": "python"
    }
  },
  "cells": [
    {
      "cell_type": "markdown",
      "metadata": {
        "id": "view-in-github",
        "colab_type": "text"
      },
      "source": [
        "<a href=\"https://colab.research.google.com/github/onishiryo/cprogtest/blob/main/cprog_MountainEchoIO.ipynb\" target=\"_parent\"><img src=\"https://colab.research.google.com/assets/colab-badge.svg\" alt=\"Open In Colab\"/></a>"
      ]
    },
    {
      "cell_type": "markdown",
      "source": [
        "# C programming test"
      ],
      "metadata": {
        "id": "qPnnsp2KH27p"
      }
    },
    {
      "cell_type": "code",
      "source": [
        "#check OS\n",
        "!cat /etc/issue\n",
        "#check compilers\n",
        "!which gcc\n",
        "!gcc -v"
      ],
      "metadata": {
        "colab": {
          "base_uri": "https://localhost:8080/"
        },
        "id": "lmIbzuUPIAOr",
        "outputId": "78557a6e-dd6d-4479-ded5-aa54b52e3999"
      },
      "execution_count": null,
      "outputs": [
        {
          "output_type": "stream",
          "name": "stdout",
          "text": [
            "Ubuntu 18.04.5 LTS \\n \\l\n",
            "\n",
            "/usr/bin/gcc\n",
            "Using built-in specs.\n",
            "COLLECT_GCC=gcc\n",
            "COLLECT_LTO_WRAPPER=/usr/lib/gcc/x86_64-linux-gnu/7/lto-wrapper\n",
            "OFFLOAD_TARGET_NAMES=nvptx-none\n",
            "OFFLOAD_TARGET_DEFAULT=1\n",
            "Target: x86_64-linux-gnu\n",
            "Configured with: ../src/configure -v --with-pkgversion='Ubuntu 7.5.0-3ubuntu1~18.04' --with-bugurl=file:///usr/share/doc/gcc-7/README.Bugs --enable-languages=c,ada,c++,go,brig,d,fortran,objc,obj-c++ --prefix=/usr --with-gcc-major-version-only --program-suffix=-7 --program-prefix=x86_64-linux-gnu- --enable-shared --enable-linker-build-id --libexecdir=/usr/lib --without-included-gettext --enable-threads=posix --libdir=/usr/lib --enable-nls --enable-bootstrap --enable-clocale=gnu --enable-libstdcxx-debug --enable-libstdcxx-time=yes --with-default-libstdcxx-abi=new --enable-gnu-unique-object --disable-vtable-verify --enable-libmpx --enable-plugin --enable-default-pie --with-system-zlib --with-target-system-zlib --enable-objc-gc=auto --enable-multiarch --disable-werror --with-arch-32=i686 --with-abi=m64 --with-multilib-list=m32,m64,mx32 --enable-multilib --with-tune=generic --enable-offload-targets=nvptx-none --without-cuda-driver --enable-checking=release --build=x86_64-linux-gnu --host=x86_64-linux-gnu --target=x86_64-linux-gnu\n",
            "Thread model: posix\n",
            "gcc version 7.5.0 (Ubuntu 7.5.0-3ubuntu1~18.04) \n",
            "/bin/echo\n"
          ]
        }
      ]
    },
    {
      "cell_type": "markdown",
      "source": [
        "[参考ページ](https://so-zou.jp/software/tech/programming/cpp/run-time-library/stream/file.htm \"参考ページ\")\n",
        "\n",
        "modeの文字\n",
        "\n",
        "| 文字列 | 読み取り | 書き込み | ファイルが存在しない | ファイルが存在する |\n",
        "| ---- | ---- | ---- | ---- | ---- |\n",
        "| r |\t○\t| × | 呼び出しに失敗 | そのファイルから読み込み |\n",
        "| r+ | ○ | ○ | | |\n",
        "| w | × | ○ | ファイルを作成 | その内容を破棄して、書き込み (上書き) |\n",
        "| w+ | ○ | ○ | | |\n",
        "| a | × | ○ | ファイルを作成 | EOFを削除せずに、末尾に書き込み |\n",
        "| a+ | ○ | ○ | | EOFを削除して、末尾に書き込み |"
      ],
      "metadata": {
        "id": "PbgSDUcXpe55"
      }
    },
    {
      "cell_type": "code",
      "execution_count": 9,
      "metadata": {
        "colab": {
          "base_uri": "https://localhost:8080/"
        },
        "id": "P9OK8ovaHiOY",
        "outputId": "773d653d-a4cd-49c5-9760-f0f98a26e7b2"
      },
      "outputs": [
        {
          "output_type": "stream",
          "name": "stdout",
          "text": [
            "Overwriting MountainEchoIO.c\n"
          ]
        }
      ],
      "source": [
        "%%file MountainEchoIO.c \n",
        "#pragma warning(disable: 4996)\n",
        "#include <stdio.h>\n",
        "//#include <string.h>\n",
        "#include <errno.h> //to use errno\n",
        "int main(void) {\n",
        "    char in_str[6]; //null文字分一つ余計に宣言（5+1=6）\n",
        "    char out_str[20];\n",
        "\n",
        "    FILE *infp;  //infile.txt\n",
        "    FILE *outfp; //outfile.txt\n",
        "    int errorCode;\n",
        "\n",
        "//input\n",
        "    if (NULL == (infp = fopen(\"infile.txt\", \"r\")))\n",
        "    {   // ファイルオープンエラー\n",
        "        errorCode = errno;\n",
        "        printf(\"errorCode=%i\\n\",errorCode);\n",
        "        printf(\"file is not found.\\n\");    \n",
        "    }\n",
        "\n",
        "    fscanf(infp, \"%5s\", in_str); //infpから文字をスキャンして、うち5文字までを in_str に代入\n",
        "    printf(\"input string=%s\\n\", in_str);\n",
        "    fclose(infp);\n",
        "\n",
        "//MountainEcho\n",
        "    sprintf(out_str, \"%s %s %.3s %s\", in_str, in_str, in_str, \"...\");\n",
        "    printf(\"output string=%s\\n\", out_str);\n",
        "\n",
        "//output\n",
        "    if (NULL == (outfp = fopen(\"outfile.txt\", \"w\")))\n",
        "    {   // ファイルオープンエラー\n",
        "        errorCode = errno;\n",
        "        printf(\"errorCode=%i\\n\",errorCode);\n",
        "        printf(\"file is not found.\\n\");    \n",
        "    }\n",
        "\n",
        "    fprintf(outfp, \"%s\", out_str);\n",
        "    fclose(outfp);\n",
        "\n",
        "    return 0;\n",
        "}"
      ]
    },
    {
      "cell_type": "code",
      "source": [
        "!gcc MountainEchoIO.c -o a.out"
      ],
      "metadata": {
        "id": "_gBUABPAHw5i"
      },
      "execution_count": 10,
      "outputs": []
    },
    {
      "cell_type": "code",
      "source": [
        "!echo YAHhooooo >infile.txt"
      ],
      "metadata": {
        "id": "GQJcWgwUscym"
      },
      "execution_count": 11,
      "outputs": []
    },
    {
      "cell_type": "code",
      "source": [
        "!./a.out"
      ],
      "metadata": {
        "colab": {
          "base_uri": "https://localhost:8080/"
        },
        "id": "bAE-vcmjsCO4",
        "outputId": "482835f9-5a1c-4101-d7b7-a69582e53af8"
      },
      "execution_count": 12,
      "outputs": [
        {
          "output_type": "stream",
          "name": "stdout",
          "text": [
            "input string=YAHho\n",
            "output string=YAHho YAHho YAH ...\n"
          ]
        }
      ]
    },
    {
      "cell_type": "code",
      "source": [
        "!ls"
      ],
      "metadata": {
        "colab": {
          "base_uri": "https://localhost:8080/"
        },
        "id": "hHGzNFeassGR",
        "outputId": "80a3f8c4-94e1-499e-c658-d4dfac84a5ec"
      },
      "execution_count": 13,
      "outputs": [
        {
          "output_type": "stream",
          "name": "stdout",
          "text": [
            "a.out  infile.txt  MountainEchoIO.c  outfile.txt  sample_data\n"
          ]
        }
      ]
    },
    {
      "cell_type": "code",
      "source": [
        "!cat outfile.txt"
      ],
      "metadata": {
        "colab": {
          "base_uri": "https://localhost:8080/"
        },
        "id": "fDMdf0xOECUU",
        "outputId": "55e287d1-b309-4896-f749-485e59f1822c"
      },
      "execution_count": 8,
      "outputs": [
        {
          "output_type": "stream",
          "name": "stdout",
          "text": [
            "YAHho YAHho YAH ..."
          ]
        }
      ]
    }
  ]
}