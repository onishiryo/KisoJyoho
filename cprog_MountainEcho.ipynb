{
  "nbformat": 4,
  "nbformat_minor": 0,
  "metadata": {
    "colab": {
      "name": "cprog-MountainEcho.ipynb",
      "provenance": [],
      "collapsed_sections": [],
      "authorship_tag": "ABX9TyOUvdM8S6OmNzAYynLn0W4D",
      "include_colab_link": true
    },
    "kernelspec": {
      "name": "python3",
      "display_name": "Python 3"
    },
    "language_info": {
      "name": "python"
    }
  },
  "cells": [
    {
      "cell_type": "markdown",
      "metadata": {
        "id": "view-in-github",
        "colab_type": "text"
      },
      "source": [
        "<a href=\"https://colab.research.google.com/github/onishiryo/cprogtest/blob/main/cprog_MountainEcho.ipynb\" target=\"_parent\"><img src=\"https://colab.research.google.com/assets/colab-badge.svg\" alt=\"Open In Colab\"/></a>"
      ]
    },
    {
      "cell_type": "markdown",
      "source": [
        "# C programming test"
      ],
      "metadata": {
        "id": "qPnnsp2KH27p"
      }
    },
    {
      "cell_type": "code",
      "source": [
        "#check OS\n",
        "!cat /etc/issue\n",
        "#check compilers\n",
        "!which gcc\n",
        "!gcc -v"
      ],
      "metadata": {
        "colab": {
          "base_uri": "https://localhost:8080/"
        },
        "id": "lmIbzuUPIAOr",
        "outputId": "78557a6e-dd6d-4479-ded5-aa54b52e3999"
      },
      "execution_count": null,
      "outputs": [
        {
          "output_type": "stream",
          "name": "stdout",
          "text": [
            "Ubuntu 18.04.5 LTS \\n \\l\n",
            "\n",
            "/usr/bin/gcc\n",
            "Using built-in specs.\n",
            "COLLECT_GCC=gcc\n",
            "COLLECT_LTO_WRAPPER=/usr/lib/gcc/x86_64-linux-gnu/7/lto-wrapper\n",
            "OFFLOAD_TARGET_NAMES=nvptx-none\n",
            "OFFLOAD_TARGET_DEFAULT=1\n",
            "Target: x86_64-linux-gnu\n",
            "Configured with: ../src/configure -v --with-pkgversion='Ubuntu 7.5.0-3ubuntu1~18.04' --with-bugurl=file:///usr/share/doc/gcc-7/README.Bugs --enable-languages=c,ada,c++,go,brig,d,fortran,objc,obj-c++ --prefix=/usr --with-gcc-major-version-only --program-suffix=-7 --program-prefix=x86_64-linux-gnu- --enable-shared --enable-linker-build-id --libexecdir=/usr/lib --without-included-gettext --enable-threads=posix --libdir=/usr/lib --enable-nls --enable-bootstrap --enable-clocale=gnu --enable-libstdcxx-debug --enable-libstdcxx-time=yes --with-default-libstdcxx-abi=new --enable-gnu-unique-object --disable-vtable-verify --enable-libmpx --enable-plugin --enable-default-pie --with-system-zlib --with-target-system-zlib --enable-objc-gc=auto --enable-multiarch --disable-werror --with-arch-32=i686 --with-abi=m64 --with-multilib-list=m32,m64,mx32 --enable-multilib --with-tune=generic --enable-offload-targets=nvptx-none --without-cuda-driver --enable-checking=release --build=x86_64-linux-gnu --host=x86_64-linux-gnu --target=x86_64-linux-gnu\n",
            "Thread model: posix\n",
            "gcc version 7.5.0 (Ubuntu 7.5.0-3ubuntu1~18.04) \n",
            "/bin/echo\n"
          ]
        }
      ]
    },
    {
      "cell_type": "code",
      "execution_count": 1,
      "metadata": {
        "colab": {
          "base_uri": "https://localhost:8080/"
        },
        "id": "P9OK8ovaHiOY",
        "outputId": "e31eae15-ec7a-43c0-a30e-9aecb7dd0345"
      },
      "outputs": [
        {
          "output_type": "stream",
          "name": "stdout",
          "text": [
            "Writing MountainEcho.c\n"
          ]
        }
      ],
      "source": [
        "%%file MountainEcho.c \n",
        "#pragma warning(disable: 4996)\n",
        "#include <stdio.h>\n",
        "int main(void) {\n",
        "    char in_str[6]; //null文字分一つ余計に宣言（5+1=6）\n",
        "    char out_str[20];\n",
        "\n",
        "    scanf(\"%5s\", in_str); //キー入力のうち5文字まで受入れて in_str に代入\n",
        "    sprintf(out_str, \"%s %s %.3s %s\", in_str, in_str, in_str, \"...\");\n",
        "    printf(\"%s\", out_str);\n",
        "\n",
        "    return 0;\n",
        "}"
      ]
    },
    {
      "cell_type": "code",
      "source": [
        "!gcc MountainEcho.c -o a.out\n",
        "!echo Yahhooooooo | ./a.out"
      ],
      "metadata": {
        "id": "_gBUABPAHw5i",
        "colab": {
          "base_uri": "https://localhost:8080/"
        },
        "outputId": "32b27e5e-a6e0-437f-edd7-81a932b5565b"
      },
      "execution_count": 2,
      "outputs": [
        {
          "output_type": "stream",
          "name": "stdout",
          "text": [
            "Yahho Yahho Yah ..."
          ]
        }
      ]
    }
  ]
}